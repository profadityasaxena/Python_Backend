{
 "cells": [
  {
   "cell_type": "markdown",
   "id": "1f938444",
   "metadata": {},
   "source": [
    "#### PYTHON CODING DRILLS - Beginner to Expert"
   ]
  },
  {
   "cell_type": "markdown",
   "id": "dcfabbc0",
   "metadata": {},
   "source": [
    "Python Coding Drills – Python Fundamentals"
   ]
  },
  {
   "cell_type": "code",
   "execution_count": 344,
   "id": "eada4c07",
   "metadata": {},
   "outputs": [
    {
     "name": "stdout",
     "output_type": "stream",
     "text": [
      "Hello, Python!\n"
     ]
    }
   ],
   "source": [
    "# This is a simple print statement\n",
    "print(\"Hello, Python!\")\n"
   ]
  },
  {
   "cell_type": "code",
   "execution_count": 345,
   "id": "f71b8065",
   "metadata": {},
   "outputs": [
    {
     "name": "stdout",
     "output_type": "stream",
     "text": [
      "10 3.14 Aditya True\n"
     ]
    }
   ],
   "source": [
    "# Integer\n",
    "x = 10\n",
    "# Float\n",
    "pi = 3.14\n",
    "# String\n",
    "name = \"Aditya\"\n",
    "# Boolean\n",
    "is_student = True\n",
    "\n",
    "print(x, pi, name, is_student)\n"
   ]
  },
  {
   "cell_type": "code",
   "execution_count": 346,
   "id": "91ba554f",
   "metadata": {},
   "outputs": [
    {
     "name": "stdout",
     "output_type": "stream",
     "text": [
      "Addition: 11\n",
      "Subtraction: 5\n",
      "Multiplication: 24\n",
      "Division: 2.6666666666666665\n",
      "Integer Division: 2\n",
      "Modulus: 2\n",
      "Exponentiation: 512\n"
     ]
    }
   ],
   "source": [
    "a = 8\n",
    "b = 3\n",
    "\n",
    "print(\"Addition:\", a + b)\n",
    "print(\"Subtraction:\", a - b)\n",
    "print(\"Multiplication:\", a * b)\n",
    "print(\"Division:\", a / b)\n",
    "print(\"Integer Division:\", a // b)\n",
    "print(\"Modulus:\", a % b)\n",
    "print(\"Exponentiation:\", a ** b)\n"
   ]
  },
  {
   "cell_type": "code",
   "execution_count": 347,
   "id": "e973b126",
   "metadata": {},
   "outputs": [
    {
     "name": "stdout",
     "output_type": "stream",
     "text": [
      "You are an adult.\n"
     ]
    }
   ],
   "source": [
    "age = 20\n",
    "\n",
    "if age >= 18:\n",
    "    print(\"You are an adult.\")\n",
    "else:\n",
    "    print(\"You are a minor.\")\n"
   ]
  },
  {
   "cell_type": "code",
   "execution_count": 348,
   "id": "3b8fed6e",
   "metadata": {},
   "outputs": [
    {
     "name": "stdout",
     "output_type": "stream",
     "text": [
      "Counting from 1 to 5:\n",
      "1\n",
      "2\n",
      "3\n",
      "4\n",
      "5\n",
      "Counting down from 5:\n",
      "5\n",
      "4\n",
      "3\n",
      "2\n",
      "1\n"
     ]
    }
   ],
   "source": [
    "# For loop\n",
    "print(\"Counting from 1 to 5:\")\n",
    "for i in range(1, 6):\n",
    "    print(i)\n",
    "\n",
    "# While loop\n",
    "print(\"Counting down from 5:\")\n",
    "count = 5\n",
    "while count > 0:\n",
    "    print(count)\n",
    "    count -= 1\n"
   ]
  },
  {
   "cell_type": "code",
   "execution_count": 349,
   "id": "1328804f",
   "metadata": {},
   "outputs": [
    {
     "name": "stdout",
     "output_type": "stream",
     "text": [
      "First fruit: apple\n",
      "Last fruit: date\n",
      "Updated list: ['apple', 'blueberry', 'cherry', 'date']\n",
      "After append: ['apple', 'blueberry', 'cherry', 'date', 'elderberry']\n",
      "After removal: ['apple', 'blueberry', 'date', 'elderberry']\n",
      "All fruits:\n",
      "apple\n",
      "blueberry\n",
      "date\n"
     ]
    }
   ],
   "source": [
    "# Define a list\n",
    "fruits = ['apple', \"banana\", 'cherry', \"date\"]\n",
    "\n",
    "# Access elements by index\n",
    "print(\"First fruit:\", fruits[0])\n",
    "print(\"Last fruit:\", fruits[-1])\n",
    "\n",
    "# Modify an element\n",
    "fruits[1] = \"blueberry\"\n",
    "print(\"Updated list:\", fruits)\n",
    "\n",
    "# Add new elements\n",
    "fruits.append(\"elderberry\")\n",
    "print(\"After append:\", fruits)\n",
    "\n",
    "# Remove an element\n",
    "fruits.remove(\"cherry\")\n",
    "print(\"After removal:\", fruits)\n",
    "\n",
    "# Remove the last element\n",
    "fruits.pop()  \n",
    "\n",
    "# Iterate over a list\n",
    "print(\"All fruits:\")\n",
    "for fruit in fruits:\n",
    "    print(fruit)\n"
   ]
  },
  {
   "cell_type": "code",
   "execution_count": 350,
   "id": "1d987a76",
   "metadata": {},
   "outputs": [
    {
     "name": "stdout",
     "output_type": "stream",
     "text": [
      "Hello, random person!\n"
     ]
    }
   ],
   "source": [
    "def greet_random():\n",
    "    print(\"Hello, random person!\")\n",
    "\n",
    "greet_random()"
   ]
  },
  {
   "cell_type": "code",
   "execution_count": 351,
   "id": "fe353609",
   "metadata": {},
   "outputs": [
    {
     "name": "stdout",
     "output_type": "stream",
     "text": [
      "Hello, Aditya!\n",
      "Sum is: 12\n"
     ]
    }
   ],
   "source": [
    "# Define a simple function\n",
    "def greet(name):\n",
    "    print(f\"Hello, {name}!\")\n",
    "\n",
    "# Call the function\n",
    "greet(\"Aditya\")\n",
    "\n",
    "# Function with return value\n",
    "def add(a, b):\n",
    "    return a + b\n",
    "\n",
    "result = add(5, 7)\n",
    "print(\"Sum is:\", result)\n"
   ]
  },
  {
   "cell_type": "code",
   "execution_count": 352,
   "id": "abb14d1b",
   "metadata": {},
   "outputs": [
    {
     "name": "stdout",
     "output_type": "stream",
     "text": [
      "Hello, Aditya!\n",
      "Sum is: 12\n"
     ]
    }
   ],
   "source": [
    "# Define a simple function\n",
    "def greet(name):\n",
    "    print(f\"Hello, {name}!\")\n",
    "\n",
    "# Call the function\n",
    "greet(\"Aditya\")\n",
    "\n",
    "# Function with return value\n",
    "def add(a, b):\n",
    "    return a + b\n",
    "\n",
    "result = add(5, 7)\n",
    "print(\"Sum is:\", result)\n"
   ]
  },
  {
   "cell_type": "code",
   "execution_count": 353,
   "id": "061629df",
   "metadata": {},
   "outputs": [
    {
     "name": "stdout",
     "output_type": "stream",
     "text": [
      "Tuple: ('alpha', 5, ['true', 'false'], 'alpha', 'beta')\n",
      "2\n",
      "1\n",
      "<class 'tuple'>\n",
      "('alpha', 5, ['false', 'false'], 'alpha', 'beta')\n"
     ]
    }
   ],
   "source": [
    "# Tuples Example\n",
    "\n",
    "my_tuple = (\"alpha\", 5, ['true', 'false'], \"alpha\", \"beta\")\n",
    "print(\"Tuple:\", my_tuple)\n",
    "\n",
    "print(my_tuple.count('alpha'))  # Count occurrences of 'alpha'\n",
    "\n",
    "print(my_tuple.index(5))  # Find the index of the first occurrence of 5\n",
    "\n",
    "print(my_tuple.__class__)\n",
    "\n",
    "my_tuple[2][0] = 'false'  # Modify the list inside the tuple\n",
    "\n",
    "print(my_tuple)"
   ]
  },
  {
   "cell_type": "code",
   "execution_count": 354,
   "id": "c69d9337",
   "metadata": {},
   "outputs": [
    {
     "name": "stdout",
     "output_type": "stream",
     "text": [
      "Name: Alice\n",
      "Updated age: 31\n",
      "name: Alice\n",
      "age: 31\n",
      "city: Toronto\n",
      "Unique numbers: {1, 2, 3, 4}\n",
      "After adding 5: {1, 2, 3, 4, 5}\n"
     ]
    }
   ],
   "source": [
    "# Dictionary example\n",
    "person = {\"name\": \"Alice\", \"age\": 30, \"city\": \"Toronto\"}\n",
    "print(\"Name:\", person[\"name\"])\n",
    "person[\"age\"] += 1\n",
    "print(\"Updated age:\", person[\"age\"])\n",
    "\n",
    "# Iterate over keys and values\n",
    "for key, value in person.items():\n",
    "    print(f\"{key}: {value}\")\n",
    "\n",
    "# Set example\n",
    "unique_numbers = {1, 2, 2, 3, 4}\n",
    "print(\"Unique numbers:\", unique_numbers)\n",
    "\n",
    "unique_numbers.add(5)\n",
    "print(\"After adding 5:\", unique_numbers)\n"
   ]
  },
  {
   "cell_type": "code",
   "execution_count": 355,
   "id": "09349a5c",
   "metadata": {},
   "outputs": [
    {
     "name": "stdout",
     "output_type": "stream",
     "text": [
      "File content:\n",
      " Hello, this is a file.\n",
      "Second line.\n"
     ]
    }
   ],
   "source": [
    "# Write to a file\n",
    "with open(\"sample.txt\", \"w\") as file:\n",
    "    file.write(\"Hello, this is a file.\\nSecond line.\")\n",
    "\n",
    "# Read from the file\n",
    "with open(\"sample.txt\", \"r\") as file:\n",
    "    content = file.read()\n",
    "    print(\"File content:\\n\", content)\n"
   ]
  },
  {
   "cell_type": "code",
   "execution_count": 356,
   "id": "91ffc705",
   "metadata": {},
   "outputs": [
    {
     "name": "stdout",
     "output_type": "stream",
     "text": [
      "Square root of 16: 4.0\n",
      "Pi: 3.141592653589793\n",
      "Random number between 1 and 10: 4\n"
     ]
    }
   ],
   "source": [
    "# Import standard library modules\n",
    "import math\n",
    "import random\n",
    "\n",
    "# Math module\n",
    "print(\"Square root of 16:\", math.sqrt(16))\n",
    "print(\"Pi:\", math.pi)\n",
    "\n",
    "# Random module\n",
    "print(\"Random number between 1 and 10:\", random.randint(1, 10))\n"
   ]
  },
  {
   "cell_type": "markdown",
   "id": "3abc1a7c",
   "metadata": {},
   "source": [
    "Python Coding Drills – List, Tuples, Sets, Dictionaries"
   ]
  },
  {
   "cell_type": "code",
   "execution_count": 357,
   "id": "6d59eafd",
   "metadata": {},
   "outputs": [
    {
     "name": "stdout",
     "output_type": "stream",
     "text": [
      "After insert: ['apple', 'blueberry', 'banana', 'cherry', 'date', 'elderberry']\n",
      "Popped item: elderberry\n",
      "First item: apple\n",
      "Is 'cherry' in list? True\n",
      "Sorted + reversed: ['date', 'cherry', 'blueberry', 'apricot']\n",
      "Length: 4\n"
     ]
    }
   ],
   "source": [
    "fruits = [\"apple\", \"banana\", \"cherry\", \"date\"]\n",
    "\n",
    "# Add items\n",
    "fruits.append(\"elderberry\")       # Add to end\n",
    "fruits.insert(1, \"blueberry\")     # Insert at position\n",
    "print(\"After insert:\", fruits)\n",
    "\n",
    "# Remove items\n",
    "fruits.remove(\"banana\")           # Remove by value\n",
    "last = fruits.pop()               # Remove last\n",
    "print(\"Popped item:\", last)\n",
    "\n",
    "# Access and modify\n",
    "print(\"First item:\", fruits[0])\n",
    "fruits[0] = \"apricot\"\n",
    "\n",
    "# Check existence\n",
    "print(\"Is 'cherry' in list?\", \"cherry\" in fruits)\n",
    "\n",
    "# Sort and reverse\n",
    "fruits.sort()\n",
    "fruits.reverse()\n",
    "print(\"Sorted + reversed:\", fruits)\n",
    "\n",
    "# Length\n",
    "print(\"Length:\", len(fruits))\n"
   ]
  },
  {
   "cell_type": "code",
   "execution_count": 358,
   "id": "7efae485",
   "metadata": {},
   "outputs": [
    {
     "name": "stdout",
     "output_type": "stream",
     "text": [
      "Width: 1920\n",
      "Height: 1080\n",
      "Resolution: 1920x1080\n",
      "Green count: 2\n",
      "Index of 'blue': 2\n",
      "Name: Alice, Age: 30, City: Toronto\n"
     ]
    }
   ],
   "source": [
    "dimensions = (1920, 1080)\n",
    "\n",
    "# Access items\n",
    "print(\"Width:\", dimensions[0])\n",
    "print(\"Height:\", dimensions[1])\n",
    "\n",
    "# Tuple unpacking\n",
    "width, height = dimensions\n",
    "print(f\"Resolution: {width}x{height}\")\n",
    "\n",
    "# Count and index\n",
    "colors = (\"red\", \"green\", \"blue\", \"green\")\n",
    "print(\"Green count:\", colors.count(\"green\"))\n",
    "print(\"Index of 'blue':\", colors.index(\"blue\"))\n",
    "\n",
    "# Note: Tuples are immutable – cannot do append, remove, or sort\n",
    "\n",
    "\n",
    "person_tuple = (\"Alice\", 30, \"Toronto\")\n",
    "name, age, city = person_tuple\n",
    "print(f\"Name: {name}, Age: {age}, City: {city}\")"
   ]
  },
  {
   "cell_type": "code",
   "execution_count": 359,
   "id": "1e468130",
   "metadata": {},
   "outputs": [
    {
     "name": "stdout",
     "output_type": "stream",
     "text": [
      "[3, 4, 5]\n",
      "(1, 2, [3, 4, 5, 6])\n"
     ]
    }
   ],
   "source": [
    "my_tuple = (1, 2, [3, 4, 5])\n",
    "print(my_tuple[2])  # Output: [3, 4, 5]\n",
    "my_tuple[2].append(6)  # Modifying the internal list is allowed\n",
    "print(my_tuple)        # Output: (1, 2, [3, 4, 5, 6])\n"
   ]
  },
  {
   "cell_type": "code",
   "execution_count": 360,
   "id": "5af39ad0",
   "metadata": {},
   "outputs": [
    {
     "name": "stdout",
     "output_type": "stream",
     "text": [
      "Toronto\n"
     ]
    }
   ],
   "source": [
    "info = (\"John\", {\"age\": 30, \"city\": \"Toronto\"})\n",
    "print(info[1][\"city\"])  # Output: Toronto\n"
   ]
  },
  {
   "cell_type": "code",
   "execution_count": 361,
   "id": "f8e8f9f0",
   "metadata": {},
   "outputs": [
    {
     "name": "stdout",
     "output_type": "stream",
     "text": [
      "{1, 2, 3}\n"
     ]
    }
   ],
   "source": [
    "example = (10, {1, 2, 3})\n",
    "print(example[1])  # Output: {1, 2, 3}\n"
   ]
  },
  {
   "cell_type": "code",
   "execution_count": 362,
   "id": "85cfbcb2",
   "metadata": {},
   "outputs": [
    {
     "name": "stdout",
     "output_type": "stream",
     "text": [
      "Montreal\n"
     ]
    }
   ],
   "source": [
    "info = (\"John\", {\"age\": 30, \"city\": \"Toronto\"})\n",
    "\n",
    "# Function to update the city in the dictionary inside the tuple\n",
    "def update_city(info_tuple, new_city):\n",
    "    info_tuple[1][\"city\"] = new_city\n",
    "\n",
    "# Modify city\n",
    "update_city(info, \"Montreal\")\n",
    "\n",
    "# Print result\n",
    "print(info[1][\"city\"])  # Output: Montreal\n"
   ]
  },
  {
   "cell_type": "code",
   "execution_count": 363,
   "id": "806669a0",
   "metadata": {},
   "outputs": [
    {
     "name": "stdout",
     "output_type": "stream",
     "text": [
      "Alice's second grade: 90\n"
     ]
    }
   ],
   "source": [
    "student_grades = {\n",
    "    \"Alice\": [85, 90, 95],\n",
    "    \"Bob\": [78, 82, 88]\n",
    "}\n",
    "\n",
    "print(\"Alice's second grade:\", student_grades[\"Alice\"][1])\n"
   ]
  },
  {
   "cell_type": "code",
   "execution_count": 364,
   "id": "33c2c119",
   "metadata": {},
   "outputs": [
    {
     "name": "stdout",
     "output_type": "stream",
     "text": [
      "Latitude of Toronto: 43.7\n"
     ]
    }
   ],
   "source": [
    "coordinates = {\n",
    "    \"Toronto\": (43.7, -79.4),\n",
    "    \"Vancouver\": (49.3, -123.1)\n",
    "}\n",
    "\n",
    "print(\"Latitude of Toronto:\", coordinates[\"Toronto\"][0])\n"
   ]
  },
  {
   "cell_type": "code",
   "execution_count": 365,
   "id": "56d3460e",
   "metadata": {},
   "outputs": [
    {
     "name": "stdout",
     "output_type": "stream",
     "text": [
      "Employee city: Montreal\n"
     ]
    }
   ],
   "source": [
    "employee = {\n",
    "    \"name\": \"Jane\",\n",
    "    \"age\": 34,\n",
    "    \"address\": {\n",
    "        \"city\": \"Montreal\",\n",
    "        \"postal\": \"H2X 3Y7\"\n",
    "    }\n",
    "}\n",
    "\n",
    "print(\"Employee city:\", employee[\"address\"][\"city\"])\n"
   ]
  },
  {
   "cell_type": "code",
   "execution_count": 366,
   "id": "d2d1a00c",
   "metadata": {},
   "outputs": [
    {
     "name": "stdout",
     "output_type": "stream",
     "text": [
      "Product tags: ['electronics', 'computers']\n",
      "CPU model: Intel i7\n"
     ]
    }
   ],
   "source": [
    "product = {\n",
    "    \"id\": 1001,\n",
    "    \"name\": \"Laptop\",\n",
    "    \"specs\": {\"RAM\": \"16GB\", \"CPU\": \"Intel i7\"},\n",
    "    \"tags\": [\"electronics\", \"computers\"],\n",
    "    \"available\": True\n",
    "}\n",
    "\n",
    "print(\"Product tags:\", product[\"tags\"])\n",
    "print(\"CPU model:\", product[\"specs\"][\"CPU\"])\n"
   ]
  },
  {
   "cell_type": "code",
   "execution_count": 367,
   "id": "2c7a5bb8",
   "metadata": {},
   "outputs": [
    {
     "name": "stdout",
     "output_type": "stream",
     "text": [
      "Name: Alice is amazing!\n",
      "Keys: ['name', 'age', 'job']\n",
      "Values: ['Alice', 31, 'Engineer']\n",
      "Items: [('name', 'Alice'), ('age', 31), ('job', 'Engineer')]\n",
      "City (safe): Not found\n",
      "name: Alice\n",
      "age: 31\n",
      "job: Engineer\n"
     ]
    }
   ],
   "source": [
    "person = {\n",
    "    \"name\": \"Alice\",\n",
    "    \"age\": 30,\n",
    "    \"city\": \"Toronto\"\n",
    "}\n",
    "\n",
    "# Access\n",
    "print(\"Name:\", person[\"name\"], \"is amazing!\")\n",
    "\n",
    "# Modify\n",
    "person[\"age\"] = 31\n",
    "\n",
    "# Add new key\n",
    "person[\"job\"] = \"Engineer\"\n",
    "\n",
    "# Delete a key\n",
    "del person[\"city\"]\n",
    "\n",
    "# Keys, values, and items\n",
    "print(\"Keys:\", list(person.keys()))\n",
    "print(\"Values:\", list(person.values()))\n",
    "print(\"Items:\", list(person.items()))\n",
    "\n",
    "# Safe access with get()\n",
    "# print(\"City\", person['city'] ) # throws KeyError if 'city' does not exist\n",
    "print(\"City (safe):\", person.get(\"city\", \"Not found\"))\n",
    "\n",
    "# Looping\n",
    "for key, value in person.items():\n",
    "    print(f\"{key}: {value}\")\n"
   ]
  },
  {
   "cell_type": "code",
   "execution_count": 368,
   "id": "4fe9f629",
   "metadata": {},
   "outputs": [
    {
     "name": "stdout",
     "output_type": "stream",
     "text": [
      "Is 2 in set? True\n",
      "Union: {1, 2, 3, 4, 5, 6, 7, 8}\n",
      "Intersection: {2, 4, 6}\n",
      "Difference: {8}\n",
      "Set length: 5\n"
     ]
    }
   ],
   "source": [
    "numbers = {1, 2, 3, 4, 4, 5}\n",
    "\n",
    "# Add and remove\n",
    "numbers.add(6)\n",
    "numbers.remove(3)\n",
    "\n",
    "# Membership\n",
    "print(\"Is 2 in set?\", 2 in numbers)\n",
    "\n",
    "# Set operations\n",
    "evens = {2, 4, 6, 8}\n",
    "odds = {1, 3, 5, 7}\n",
    "\n",
    "print(\"Union:\", evens.union(odds))\n",
    "print(\"Intersection:\", evens.intersection(numbers))\n",
    "print(\"Difference:\", evens.difference(numbers))\n",
    "\n",
    "# Length\n",
    "print(\"Set length:\", len(numbers))\n"
   ]
  },
  {
   "cell_type": "code",
   "execution_count": 369,
   "id": "df45a942",
   "metadata": {},
   "outputs": [
    {
     "name": "stdout",
     "output_type": "stream",
     "text": [
      "{frozenset({3, 4}), 42, (1, 2), 'hello'}\n"
     ]
    }
   ],
   "source": [
    "# Tuple is hashable if all its contents are immutable\n",
    "valid_set = {42, \"hello\", (1, 2), frozenset([3, 4])}\n",
    "print(valid_set)\n"
   ]
  },
  {
   "cell_type": "markdown",
   "id": "7ab3ba7c",
   "metadata": {},
   "source": [
    "Python Coding Drills – Classes and Functions"
   ]
  },
  {
   "cell_type": "code",
   "execution_count": 370,
   "id": "2e32c4b3",
   "metadata": {},
   "outputs": [
    {
     "name": "stdout",
     "output_type": "stream",
     "text": [
      "Hello, Aditya!\n"
     ]
    }
   ],
   "source": [
    "def greet(name):\n",
    "    return f\"Hello, {name}!\"\n",
    "\n",
    "print(greet(\"Aditya\"))\n"
   ]
  },
  {
   "cell_type": "code",
   "execution_count": 371,
   "id": "9b022e1f",
   "metadata": {},
   "outputs": [
    {
     "name": "stdout",
     "output_type": "stream",
     "text": [
      "25\n",
      "125\n"
     ]
    }
   ],
   "source": [
    "def power(base, exponent=2):\n",
    "    return base ** exponent\n",
    "\n",
    "print(power(5))        # Default exponent = 2\n",
    "print(power(5, 3))     # Override exponent\n"
   ]
  },
  {
   "cell_type": "code",
   "execution_count": 372,
   "id": "b9a90dc4",
   "metadata": {},
   "outputs": [
    {
     "name": "stdout",
     "output_type": "stream",
     "text": [
      "15\n"
     ]
    }
   ],
   "source": [
    "def sum_all(*args):\n",
    "    return sum(args)\n",
    "\n",
    "print(sum_all(1, 2, 3, 4, 5))  # Output: 15\n"
   ]
  },
  {
   "cell_type": "code",
   "execution_count": 373,
   "id": "421018c2",
   "metadata": {},
   "outputs": [
    {
     "name": "stdout",
     "output_type": "stream",
     "text": [
      "name: Alice\n",
      "age: 28\n",
      "city: Toronto\n"
     ]
    }
   ],
   "source": [
    "def describe_person(**kwargs):\n",
    "    for key, value in kwargs.items():\n",
    "        print(f\"{key}: {value}\")\n",
    "\n",
    "describe_person(name=\"Alice\", age=28, city=\"Toronto\")\n"
   ]
  },
  {
   "cell_type": "code",
   "execution_count": 374,
   "id": "d2c3239c",
   "metadata": {},
   "outputs": [
    {
     "name": "stdout",
     "output_type": "stream",
     "text": [
      "40\n"
     ]
    }
   ],
   "source": [
    "def outer(a):\n",
    "    def inner(b):\n",
    "        return a + b\n",
    "    return inner\n",
    "\n",
    "add_to_10 = outer(10)\n",
    "print (add_to_10(30))\n"
   ]
  },
  {
   "cell_type": "code",
   "execution_count": 375,
   "id": "b9aecda4",
   "metadata": {},
   "outputs": [
    {
     "name": "stdout",
     "output_type": "stream",
     "text": [
      "105.0\n",
      "113.0\n"
     ]
    }
   ],
   "source": [
    "def tax_calculator(rate):\n",
    "    def apply_tax(amount):\n",
    "        return amount + amount * rate\n",
    "    return apply_tax\n",
    "\n",
    "gst = tax_calculator(0.05)    # 5% GST\n",
    "hst = tax_calculator(0.13)    # 13% HST\n",
    "\n",
    "print(gst(100))  # 105.0\n",
    "print(hst(100))  # 113.0\n"
   ]
  },
  {
   "cell_type": "code",
   "execution_count": 376,
   "id": "3955e5af",
   "metadata": {},
   "outputs": [
    {
     "name": "stdout",
     "output_type": "stream",
     "text": [
      "[INFO] System started\n",
      "[ERROR] Connection failed\n"
     ]
    }
   ],
   "source": [
    "def logger(prefix):\n",
    "    def log(message):\n",
    "        print(f\"[{prefix}] {message}\")\n",
    "    return log\n",
    "\n",
    "info_log = logger(\"INFO\")\n",
    "error_log = logger(\"ERROR\")\n",
    "\n",
    "info_log(\"System started\")      # [INFO] System started\n",
    "error_log(\"Connection failed\")  # [ERROR] Connection failed\n"
   ]
  },
  {
   "cell_type": "code",
   "execution_count": 377,
   "id": "39e3b2dc",
   "metadata": {},
   "outputs": [
    {
     "name": "stdout",
     "output_type": "stream",
     "text": [
      "You clicked Save\n"
     ]
    }
   ],
   "source": [
    "def make_button_handler(label):\n",
    "    def handler():\n",
    "        print(f\"You clicked {label}\")\n",
    "    return handler\n",
    "\n",
    "button1_action = make_button_handler(\"Save\")\n",
    "button1_action()  # You clicked Save\n"
   ]
  },
  {
   "cell_type": "code",
   "execution_count": 378,
   "id": "83f1ed4e",
   "metadata": {},
   "outputs": [
    {
     "name": "stdout",
     "output_type": "stream",
     "text": [
      "36\n",
      "7\n"
     ]
    }
   ],
   "source": [
    "square = lambda x: x ** 2\n",
    "add = lambda x, y: x + y\n",
    "\n",
    "print(square(6))       # 36\n",
    "print(add(3, 4))       # 7\n"
   ]
  },
  {
   "cell_type": "code",
   "execution_count": 379,
   "id": "8aac0043",
   "metadata": {},
   "outputs": [
    {
     "name": "stdout",
     "output_type": "stream",
     "text": [
      "125\n"
     ]
    }
   ],
   "source": [
    "def apply_function(x, func):\n",
    "    return func(x)\n",
    "\n",
    "print(apply_function(5, lambda x: x**3))  # Output: 125\n"
   ]
  },
  {
   "cell_type": "code",
   "execution_count": 380,
   "id": "3a8f83c8",
   "metadata": {},
   "outputs": [
    {
     "name": "stdout",
     "output_type": "stream",
     "text": [
      "Hi, I'm Aditya and I'm 38 years old.\n"
     ]
    }
   ],
   "source": [
    "class Person:\n",
    "    def __init__(self, name, age):\n",
    "        self.name = name\n",
    "        self.age = age\n",
    "\n",
    "    def greet(self):\n",
    "        return f\"Hi, I'm {self.name} and I'm {self.age} years old.\"\n",
    "\n",
    "p = Person(\"Aditya\", 38)\n",
    "print(p.greet())\n"
   ]
  },
  {
   "cell_type": "code",
   "execution_count": 381,
   "id": "4be26489",
   "metadata": {},
   "outputs": [
    {
     "name": "stdout",
     "output_type": "stream",
     "text": [
      "John - Maple High School\n"
     ]
    }
   ],
   "source": [
    "class Student:\n",
    "    school_name = \"Maple High School\"  # Class variable\n",
    "\n",
    "    def __init__(self, name, grade):\n",
    "        self.name = name         # Instance variable\n",
    "        self.grade = grade\n",
    "\n",
    "s = Student(\"John\", \"10th\")\n",
    "print(s.name, \"-\", s.school_name)\n"
   ]
  },
  {
   "cell_type": "code",
   "execution_count": 382,
   "id": "d9429ecd",
   "metadata": {},
   "outputs": [
    {
     "name": "stdout",
     "output_type": "stream",
     "text": [
      "Hi this is Alice\n"
     ]
    }
   ],
   "source": [
    "a_student = Student(\"Alice\", \"12th\")\n",
    "\n",
    "print(\"Hi this is\", a_student.name)"
   ]
  },
  {
   "cell_type": "code",
   "execution_count": 383,
   "id": "a27deae4",
   "metadata": {},
   "outputs": [
    {
     "name": "stdout",
     "output_type": "stream",
     "text": [
      "Some sound\n",
      "Bark!\n"
     ]
    }
   ],
   "source": [
    "class Animal:\n",
    "    def speak(self):\n",
    "        return \"Some sound\"\n",
    "\n",
    "class Dog(Animal):\n",
    "    def speak(self):\n",
    "        return \"Bark!\"\n",
    "\n",
    "a = Animal()\n",
    "d = Dog()\n",
    "print(a.speak())  # Output: Some sound\n",
    "print(d.speak())  # Output: Bark!\n"
   ]
  },
  {
   "cell_type": "code",
   "execution_count": 384,
   "id": "f594196d",
   "metadata": {},
   "outputs": [
    {
     "name": "stdout",
     "output_type": "stream",
     "text": [
      "Some sound + Tweet!\n"
     ]
    }
   ],
   "source": [
    "class Animal:\n",
    "    def speak(self):\n",
    "        return \"Some sound\"\n",
    "\n",
    "class Bird(Animal):\n",
    "    def speak(self):\n",
    "        parent_sound = super().speak()\n",
    "        return parent_sound + \" + Tweet!\"\n",
    "\n",
    "b = Bird()\n",
    "print(b.speak())  # Some sound + Tweet!\n"
   ]
  },
  {
   "cell_type": "code",
   "execution_count": 385,
   "id": "e2803fad",
   "metadata": {},
   "outputs": [
    {
     "name": "stdout",
     "output_type": "stream",
     "text": [
      "Simba makes some sound and roars!\n"
     ]
    }
   ],
   "source": [
    "class Animal:\n",
    "    def __init__(self, name):\n",
    "        self.name = name\n",
    "\n",
    "    def speak(self):\n",
    "        return f\"{self.name} makes some sound\"\n",
    "\n",
    "class Lion(Animal):\n",
    "    def speak(self):\n",
    "        return super().speak() + \" and roars!\" \n",
    "    \n",
    "l = Lion(\"Simba\")\n",
    "print(l.speak())  # Simba roars!\n"
   ]
  },
  {
   "cell_type": "code",
   "execution_count": 386,
   "id": "272c89b0",
   "metadata": {},
   "outputs": [
    {
     "name": "stdout",
     "output_type": "stream",
     "text": [
      "... Moo\n",
      "Baa\n",
      "... Moo\n",
      "...\n"
     ]
    }
   ],
   "source": [
    "class Animal:\n",
    "    def speak(self):\n",
    "        return \"...\"\n",
    "\n",
    "class Cow(Animal):\n",
    "    def speak(self):\n",
    "        return super().speak() + \" Moo\"\n",
    "\n",
    "class Sheep(Animal):\n",
    "    def speak(self):\n",
    "        return \"Baa\"\n",
    "\n",
    "animals = [Cow(), Sheep(), Cow(), Animal()]\n",
    "\n",
    "for animal in animals:\n",
    "    print(animal.speak())\n"
   ]
  },
  {
   "cell_type": "code",
   "execution_count": 387,
   "id": "e1481c76",
   "metadata": {},
   "outputs": [
    {
     "name": "stdout",
     "output_type": "stream",
     "text": [
      "Quack!\n"
     ]
    }
   ],
   "source": [
    "# ---------------------------------------------------------------\n",
    "# Abstract Base Class Example: Animal & Duck\n",
    "# ---------------------------------------------------------------\n",
    "# This example demonstrates Python's abstract base class (ABC) pattern.\n",
    "#\n",
    "# - Animal is an abstract base class (ABC) using the abc module.\n",
    "#   It defines an abstract method 'speak' that must be implemented\n",
    "#   by any subclass.\n",
    "#\n",
    "# - Duck is a concrete subclass of Animal, providing its own\n",
    "#   implementation of the 'speak' method.\n",
    "#\n",
    "# - Attempting to instantiate Animal directly will raise an error,\n",
    "#   since it contains an abstract method.\n",
    "#\n",
    "# - Instantiating Duck and calling speak() returns \"Quack!\".\n",
    "# ---------------------------------------------------------------\n",
    "\n",
    "from abc import ABC, abstractmethod\n",
    "\n",
    "class Animal(ABC):\n",
    "    @abstractmethod\n",
    "    def speak(self):\n",
    "        pass\n",
    "\n",
    "class Duck(Animal):\n",
    "    def speak(self):\n",
    "        return \"Quack!\"\n",
    "\n",
    "# a = Animal()  # ❌ Error: Can't instantiate abstract class\n",
    "d = Duck()\n",
    "print(d.speak())  # Quack!\n"
   ]
  },
  {
   "cell_type": "code",
   "execution_count": 388,
   "id": "bc3aec4c",
   "metadata": {},
   "outputs": [
    {
     "name": "stdout",
     "output_type": "stream",
     "text": [
      "Stripe authorizing $100\n",
      "Stripe processed payment of $100\n"
     ]
    }
   ],
   "source": [
    "from abc import ABC, abstractmethod\n",
    "\n",
    "class PaymentGateway(ABC):\n",
    "    @abstractmethod\n",
    "    def authorize(self, amount):\n",
    "        pass\n",
    "\n",
    "    @abstractmethod\n",
    "    def pay(self, amount):\n",
    "        pass\n",
    "\n",
    "class StripePayment(PaymentGateway):\n",
    "    def authorize(self, amount):\n",
    "        print(f\"Stripe authorizing ${amount}\")\n",
    "        return True\n",
    "\n",
    "    def pay(self, amount):\n",
    "        print(f\"Stripe processed payment of ${amount}\")\n",
    "\n",
    "class PaypalPayment(PaymentGateway):\n",
    "    def authorize(self, amount):\n",
    "        print(f\"PayPal authorizing ${amount}\")\n",
    "        return True\n",
    "\n",
    "    def pay(self, amount):\n",
    "        print(f\"PayPal processed payment of ${amount}\")\n",
    "\n",
    "pg = StripePayment()\n",
    "if pg.authorize(100):\n",
    "    pg.pay(100)\n"
   ]
  },
  {
   "cell_type": "code",
   "execution_count": 389,
   "id": "048d0319",
   "metadata": {},
   "outputs": [
    {
     "name": "stdout",
     "output_type": "stream",
     "text": [
      "Rendering PDF content\n",
      "Rendering Word content\n"
     ]
    }
   ],
   "source": [
    "class Document(ABC):\n",
    "    @abstractmethod\n",
    "    def render(self):\n",
    "        pass\n",
    "\n",
    "class PDFDocument(Document):\n",
    "    def render(self):\n",
    "        return \"Rendering PDF content\"\n",
    "\n",
    "class WordDocument(Document):\n",
    "    def render(self):\n",
    "        return \"Rendering Word content\"\n",
    "\n",
    "docs = [PDFDocument(), WordDocument()]\n",
    "for doc in docs:\n",
    "    print(doc.render())\n"
   ]
  },
  {
   "cell_type": "code",
   "execution_count": 390,
   "id": "05fc5617",
   "metadata": {},
   "outputs": [
    {
     "name": "stdout",
     "output_type": "stream",
     "text": [
      "30\n",
      "Utility class: Utility\n"
     ]
    }
   ],
   "source": [
    "\"\"\"\n",
    "This example demonstrates the use of @staticmethod and @classmethod in Python.\n",
    "\n",
    "Class: Utility\n",
    "--------------\n",
    "The Utility class defines two methods using distinct decorators:\n",
    "\n",
    "1. @staticmethod\n",
    "   - Method: add(x, y)\n",
    "   - Does not receive any implicit class or instance arguments.\n",
    "   - Use case: Utility-level operations that are logically related to the class but\n",
    "     do not require access to instance or class data.\n",
    "   - Invocation: Utility.add(10, 20) → 30\n",
    "\n",
    "2. @classmethod\n",
    "   - Method: info(cls)\n",
    "   - Receives the calling class as the first argument (`cls`), rather than an instance (`self`).\n",
    "   - Use case: When method behavior should depend on the class context, such as in inheritance.\n",
    "   - Invocation: Utility.info() → \"Utility class: Utility\"\n",
    "\n",
    "Together, these methods illustrate how to define class-level and static-level functionality in Python\n",
    "without requiring instantiation of the class. This pattern is commonly used in utility modules,\n",
    "factories, and class-aware behavior design.\n",
    "\"\"\"\n",
    "\n",
    "class Utility:\n",
    "\n",
    "    @staticmethod\n",
    "    def add(x, y):\n",
    "        return x + y\n",
    "\n",
    "    @classmethod\n",
    "    def info(cls):\n",
    "        return f\"Utility class: {cls.__name__}\"\n",
    "\n",
    "# Usage examples\n",
    "print(Utility.add(10, 20))     # Output: 30\n",
    "print(Utility.info())          # Output: Utility class: Utility\n"
   ]
  },
  {
   "cell_type": "code",
   "execution_count": 391,
   "id": "a7ade5d9",
   "metadata": {},
   "outputs": [
    {
     "name": "stdout",
     "output_type": "stream",
     "text": [
      "Python Essentials (300 pages)\n",
      "300\n"
     ]
    }
   ],
   "source": [
    "\"\"\"\n",
    "This example demonstrates the use of special (magic) methods __str__ and __len__ in Python classes.\n",
    "\n",
    "Class: Book\n",
    "-----------\n",
    "The Book class defines two special methods to customize behavior when instances are\n",
    "used with built-in functions or in specific contexts:\n",
    "\n",
    "1. __str__(self):\n",
    "   - Defines the human-readable string representation of the object.\n",
    "   - Automatically invoked when calling str(obj) or print(obj).\n",
    "   - In this case, it returns a formatted string with the title and number of pages.\n",
    "\n",
    "2. __len__(self):\n",
    "   - Defines the behavior of the built-in len(obj) function.\n",
    "   - Here, it returns the number of pages in the book.\n",
    "\n",
    "These special methods make the class more intuitive and integrate smoothly with Python's built-in functions.\n",
    "\n",
    "Usage:\n",
    "------\n",
    "b = Book(\"Python Essentials\", 300)\n",
    "print(b)         → Python Essentials (300 pages)\n",
    "print(len(b))    → 300\n",
    "\"\"\"\n",
    "\n",
    "class Book:\n",
    "    def __init__(self, title, pages):\n",
    "        self.title = title\n",
    "        self.pages = pages\n",
    "\n",
    "    def __str__(self):\n",
    "        return f\"{self.title} ({self.pages} pages)\"\n",
    "\n",
    "    def __len__(self):\n",
    "        return self.pages\n",
    "\n",
    "b = Book(\"Python Essentials\", 300)\n",
    "print(b)\n",
    "print(len(b))\n",
    "\n",
    "\n"
   ]
  },
  {
   "cell_type": "code",
   "execution_count": 392,
   "id": "d753f3e3",
   "metadata": {},
   "outputs": [
    {
     "name": "stdout",
     "output_type": "stream",
     "text": [
      "AI Fundamentals + ML Basics (550 pages)\n"
     ]
    }
   ],
   "source": [
    "class Book:\n",
    "    def __init__(self, title, pages):\n",
    "        self.title = title\n",
    "        self.pages = pages\n",
    "\n",
    "    def __add__(self, other):\n",
    "        if isinstance(other, Book):\n",
    "            return Book(\n",
    "                title=f\"{self.title} + {other.title}\",\n",
    "                pages=self.pages + other.pages\n",
    "            )\n",
    "        return NotImplemented\n",
    "\n",
    "    def __str__(self):\n",
    "        return f\"{self.title} ({self.pages} pages)\"\n",
    "\n",
    "b1 = Book(\"AI Fundamentals\", 250)\n",
    "b2 = Book(\"ML Basics\", 300)\n",
    "\n",
    "combined = b1 + b2\n",
    "print(combined)  # Output: AI Fundamentals + ML Basics (550 pages)\n"
   ]
  },
  {
   "cell_type": "code",
   "execution_count": 393,
   "id": "037b67cf",
   "metadata": {},
   "outputs": [
    {
     "name": "stdout",
     "output_type": "stream",
     "text": [
      "Sum: 4h 20m\n",
      "Difference: 1h 20m\n"
     ]
    }
   ],
   "source": [
    "class TimeDuration:\n",
    "    def __init__(self, hours, minutes):\n",
    "        self.hours = hours\n",
    "        self.minutes = minutes\n",
    "\n",
    "    def __add__(self, other):\n",
    "        total_minutes = self.minutes + other.minutes\n",
    "        extra_hours = total_minutes // 60\n",
    "        final_minutes = total_minutes % 60\n",
    "        final_hours = self.hours + other.hours + extra_hours\n",
    "        return TimeDuration(final_hours, final_minutes)\n",
    "\n",
    "    def __sub__(self, other):\n",
    "        total_self = self.hours * 60 + self.minutes\n",
    "        total_other = other.hours * 60 + other.minutes\n",
    "        diff_minutes = max(0, total_self - total_other)\n",
    "        return TimeDuration(diff_minutes // 60, diff_minutes % 60)\n",
    "\n",
    "    def __str__(self):\n",
    "        return f\"{self.hours}h {self.minutes}m\"\n",
    "\n",
    "t1 = TimeDuration(2, 50)\n",
    "t2 = TimeDuration(1, 30)\n",
    "print(\"Sum:\", t1 + t2)       # 4h 20m\n",
    "print(\"Difference:\", t1 - t2)  # 1h 20m\n"
   ]
  },
  {
   "cell_type": "code",
   "execution_count": 394,
   "id": "a2c2ea6e",
   "metadata": {},
   "outputs": [
    {
     "name": "stdout",
     "output_type": "stream",
     "text": [
      "True\n",
      "False\n"
     ]
    }
   ],
   "source": [
    "class Book:\n",
    "    def __init__(self, title, pages):\n",
    "        self.title = title\n",
    "        self.pages = pages\n",
    "\n",
    "    def __eq__(self, other):\n",
    "        if isinstance(other, Book):\n",
    "            return self.title == other.title and self.pages == other.pages\n",
    "        return NotImplemented\n",
    "\n",
    "b1 = Book(\"AI Fundamentals\", 250)\n",
    "b2 = Book(\"AI Fundamentals\", 250)\n",
    "b3 = Book(\"ML Basics\", 250)\n",
    "\n",
    "print(b1 == b2)  # True\n",
    "print(b1 == b3)  # False\n"
   ]
  },
  {
   "cell_type": "code",
   "execution_count": 395,
   "id": "ff2cdd32",
   "metadata": {},
   "outputs": [
    {
     "name": "stdout",
     "output_type": "stream",
     "text": [
      "Deep Learning + Reinforcement Learning (700 pages)\n",
      "True\n"
     ]
    }
   ],
   "source": [
    "class Book:\n",
    "    def __init__(self, title, pages):\n",
    "        self.title = title\n",
    "        self.pages = pages\n",
    "\n",
    "    def __str__(self):\n",
    "        return f\"{self.title} ({self.pages} pages)\"\n",
    "\n",
    "    def __add__(self, other):\n",
    "        if isinstance(other, Book):\n",
    "            return Book(f\"{self.title} + {other.title}\", self.pages + other.pages)\n",
    "        return NotImplemented\n",
    "\n",
    "    def __eq__(self, other):\n",
    "        return isinstance(other, Book) and self.title == other.title and self.pages == other.pages\n",
    "\n",
    "b1 = Book(\"Deep Learning\", 400)\n",
    "b2 = Book(\"Reinforcement Learning\", 300)\n",
    "b3 = b1 + b2\n",
    "b4 = Book(\"Deep Learning + Reinforcement Learning\", 700)\n",
    "\n",
    "print(b3)          # Deep Learning + Reinforcement Learning (700 pages)\n",
    "print(b3 == b4)    # True\n"
   ]
  },
  {
   "cell_type": "code",
   "execution_count": 396,
   "id": "df6295f8",
   "metadata": {},
   "outputs": [
    {
     "name": "stdout",
     "output_type": "stream",
     "text": [
      "True\n",
      "False\n",
      "False\n",
      "True\n",
      "True\n"
     ]
    }
   ],
   "source": [
    "class Book:\n",
    "    def __init__(self, title, pages):\n",
    "        self.title = title\n",
    "        self.pages = pages\n",
    "\n",
    "    def __lt__(self, other):\n",
    "        return self.pages < other.pages\n",
    "\n",
    "    def __gt__(self, other):\n",
    "        return self.pages > other.pages\n",
    "\n",
    "    def __le__(self, other):\n",
    "        return self.pages <= other.pages\n",
    "\n",
    "    def __ge__(self, other):\n",
    "        return self.pages >= other.pages\n",
    "\n",
    "    def __eq__(self, other):\n",
    "        return self.pages == other.pages\n",
    "\n",
    "    def __ne__(self, other):\n",
    "        return self.pages != other.pages\n",
    "\n",
    "    def __str__(self):\n",
    "        return f\"{self.title} ({self.pages} pages)\"\n",
    "\n",
    "b1 = Book(\"Book A\", 150)\n",
    "b2 = Book(\"Book B\", 200)\n",
    "\n",
    "print(b1 < b2)   # True\n",
    "print(b1 > b2)   # False\n",
    "print(b1 == b2)  # False\n",
    "print(b1 <= b2)  # True\n",
    "print(b1 != b2)  # True\n"
   ]
  },
  {
   "cell_type": "code",
   "execution_count": 397,
   "id": "c78244cf",
   "metadata": {},
   "outputs": [
    {
     "name": "stdout",
     "output_type": "stream",
     "text": [
      "Width: 10\n",
      "Height: 5\n",
      "Area: 50\n"
     ]
    }
   ],
   "source": [
    "class Rectangle:\n",
    "    def __init__(self, width, height):\n",
    "        self._width = width    # Use underscore to denote \"private\"\n",
    "        self._height = height\n",
    "\n",
    "    @property\n",
    "    def width(self):\n",
    "        return self._width\n",
    "\n",
    "    @width.setter\n",
    "    def width(self, value):\n",
    "        if value < 0:\n",
    "            raise ValueError(\"Width must be non-negative.\")\n",
    "        self._width = value\n",
    "\n",
    "    @property\n",
    "    def height(self):\n",
    "        return self._height\n",
    "\n",
    "    @height.setter\n",
    "    def height(self, value):\n",
    "        if value < 0:\n",
    "            raise ValueError(\"Height must be non-negative.\")\n",
    "        self._height = value\n",
    "\n",
    "    @property\n",
    "    def area(self):\n",
    "        return self._width * self._height  # Computed read-only property\n",
    "\n",
    "r = Rectangle(10, 5)\n",
    "print(\"Width:\", r.width)\n",
    "print(\"Height:\", r.height)\n",
    "print(\"Area:\", r.area)\n",
    "\n",
    "r.width = 15    # Valid\n",
    "# r.width = -1  # Raises ValueError\n"
   ]
  },
  {
   "cell_type": "code",
   "execution_count": 398,
   "id": "897678cc",
   "metadata": {},
   "outputs": [
    {
     "name": "stdout",
     "output_type": "stream",
     "text": [
      "Area: 28.274333882308138\n"
     ]
    }
   ],
   "source": [
    "class Circle:\n",
    "    def __init__(self, radius):\n",
    "        self._radius = radius\n",
    "\n",
    "    @property\n",
    "    def area(self):\n",
    "        from math import pi\n",
    "        return pi * self._radius ** 2\n",
    "\n",
    "c = Circle(3)\n",
    "print(\"Area:\", c.area)\n",
    "# c.area = 100  # ❌ Error: can't set attribute\n"
   ]
  },
  {
   "cell_type": "code",
   "execution_count": 399,
   "id": "1efbcae4",
   "metadata": {},
   "outputs": [
    {
     "name": "stdout",
     "output_type": "stream",
     "text": [
      "Machine Learning\n",
      "Deep Learning\n",
      "Book: Python Fundamentals\n",
      "Book: Deep Learning\n",
      "Book: Artificial Intelligence\n",
      "Total books: 3\n"
     ]
    }
   ],
   "source": [
    "class Library:\n",
    "    def __init__(self):\n",
    "        self.books = []  # Internal list to store book titles\n",
    "\n",
    "    def add_book(self, title):\n",
    "        self.books.append(title)\n",
    "\n",
    "    def __getitem__(self, index):\n",
    "        return self.books[index]\n",
    "\n",
    "    def __setitem__(self, index, value):\n",
    "        self.books[index] = value\n",
    "\n",
    "    def __iter__(self):\n",
    "        return iter(self.books)\n",
    "\n",
    "    def __len__(self):\n",
    "        return len(self.books)\n",
    "\n",
    "lib = Library()\n",
    "lib.add_book(\"Python Fundamentals\")\n",
    "lib.add_book(\"Machine Learning\")\n",
    "lib.add_book(\"Artificial Intelligence\")\n",
    "\n",
    "# Indexing\n",
    "print(lib[1])       # Output: Machine Learning\n",
    "\n",
    "# Assignment\n",
    "lib[1] = \"Deep Learning\"\n",
    "print(lib[1])       # Output: Deep Learning\n",
    "\n",
    "# Iteration\n",
    "for title in lib:\n",
    "    print(\"Book:\", title)\n",
    "\n",
    "# Length\n",
    "print(\"Total books:\", len(lib))\n"
   ]
  },
  {
   "cell_type": "code",
   "execution_count": 400,
   "id": "4d89b2dd",
   "metadata": {},
   "outputs": [
    {
     "name": "stdout",
     "output_type": "stream",
     "text": [
      "30\n",
      "Not found\n"
     ]
    }
   ],
   "source": [
    "class Config:\n",
    "    def __init__(self):\n",
    "        self._settings = {}\n",
    "\n",
    "    def __getitem__(self, key):\n",
    "        return self._settings.get(key, \"Not found\")\n",
    "\n",
    "    def __setitem__(self, key, value):\n",
    "        self._settings[key] = value\n",
    "\n",
    "cfg = Config()\n",
    "cfg[\"timeout\"] = 30\n",
    "print(cfg[\"timeout\"])     # 30\n",
    "print(cfg[\"retries\"])     # Not found\n"
   ]
  },
  {
   "cell_type": "markdown",
   "id": "b6f35680",
   "metadata": {},
   "source": [
    "Python Coding Drills – File Handling"
   ]
  },
  {
   "cell_type": "code",
   "execution_count": 401,
   "id": "4dadadbe",
   "metadata": {},
   "outputs": [],
   "source": [
    "with open(\"example.txt\", \"w\") as f:\n",
    "    f.write(\"This is a line of text.\\n\")\n"
   ]
  },
  {
   "cell_type": "code",
   "execution_count": 402,
   "id": "f5a39a1d",
   "metadata": {},
   "outputs": [
    {
     "name": "stdout",
     "output_type": "stream",
     "text": [
      "This is a line of text.\n",
      "\n"
     ]
    }
   ],
   "source": [
    "with open(\"example.txt\", \"r\") as f:\n",
    "    content = f.read()\n",
    "    print(content)\n"
   ]
  },
  {
   "cell_type": "code",
   "execution_count": 403,
   "id": "e43c696e",
   "metadata": {},
   "outputs": [],
   "source": [
    "with open(\"example.txt\", \"a\") as f:\n",
    "    f.write(\"Appended line.\\n\")\n"
   ]
  },
  {
   "cell_type": "code",
   "execution_count": 404,
   "id": "02f738e3",
   "metadata": {},
   "outputs": [],
   "source": [
    "import csv\n",
    "\n",
    "# Writing CSV\n",
    "with open(\"data.csv\", \"w\", newline=\"\") as f:\n",
    "    writer = csv.writer(f)\n",
    "    writer.writerow([\"name\", \"age\"])\n",
    "    writer.writerow([\"Alice\", 30])\n"
   ]
  },
  {
   "cell_type": "code",
   "execution_count": 405,
   "id": "23e61daa",
   "metadata": {},
   "outputs": [
    {
     "name": "stdout",
     "output_type": "stream",
     "text": [
      "Bob\n"
     ]
    }
   ],
   "source": [
    "import json\n",
    "\n",
    "data = {\"name\": \"Bob\", \"active\": True}\n",
    "with open(\"data.json\", \"w\") as f:\n",
    "    json.dump(data, f)\n",
    "\n",
    "with open(\"data.json\", \"r\") as f:\n",
    "    loaded = json.load(f)\n",
    "    print(loaded[\"name\"])  # Bob\n"
   ]
  },
  {
   "cell_type": "code",
   "execution_count": 406,
   "id": "f1734f46",
   "metadata": {},
   "outputs": [
    {
     "name": "stdout",
     "output_type": "stream",
     "text": [
      "File does not exist.\n"
     ]
    }
   ],
   "source": [
    "try:\n",
    "    with open(\"nonexistent.txt\", \"r\") as f:\n",
    "        data = f.read()\n",
    "except FileNotFoundError:\n",
    "    print(\"File does not exist.\")\n"
   ]
  },
  {
   "cell_type": "markdown",
   "id": "06601a81",
   "metadata": {},
   "source": [
    "Python Coding Drills – Modules"
   ]
  },
  {
   "cell_type": "markdown",
   "id": "c28fcba4",
   "metadata": {},
   "source": [
    "Python Coding Drills – Packaging"
   ]
  },
  {
   "cell_type": "markdown",
   "id": "990b9685",
   "metadata": {},
   "source": [
    "Python Coding Drills – Advanced "
   ]
  },
  {
   "cell_type": "markdown",
   "id": "1b6ae6cd",
   "metadata": {},
   "source": [
    "Python Coding Drills – Data Science"
   ]
  },
  {
   "cell_type": "markdown",
   "id": "fb01ae3f",
   "metadata": {},
   "source": [
    "Python Coding Drills – Pandas"
   ]
  },
  {
   "cell_type": "markdown",
   "id": "d00a61a7",
   "metadata": {},
   "source": [
    "Python Coding Drills – Numpy"
   ]
  },
  {
   "cell_type": "markdown",
   "id": "cafd62cb",
   "metadata": {},
   "source": [
    "Python Coding Drills – Matplotlib"
   ]
  },
  {
   "cell_type": "markdown",
   "id": "34a5bc8c",
   "metadata": {},
   "source": [
    "Python Coding Drills – Seaborn"
   ]
  },
  {
   "cell_type": "markdown",
   "id": "891482c7",
   "metadata": {},
   "source": [
    "Python Coding Drills – Tensorflow"
   ]
  },
  {
   "cell_type": "markdown",
   "id": "f4c7e574",
   "metadata": {},
   "source": [
    "Python Coding Drills – Pytorch"
   ]
  },
  {
   "cell_type": "markdown",
   "id": "f221b8a7",
   "metadata": {},
   "source": [
    "Python Coding Drills – Keras"
   ]
  },
  {
   "cell_type": "markdown",
   "id": "8f47b9bd",
   "metadata": {},
   "source": [
    "Python Coding Drills – Backend Logic, Data Parsing & REST API Behavior"
   ]
  },
  {
   "cell_type": "code",
   "execution_count": 407,
   "id": "b7866dd3",
   "metadata": {},
   "outputs": [],
   "source": [
    "# Core Python Libraries\n",
    "import json\n",
    "import math\n",
    "from typing import List, Dict\n"
   ]
  },
  {
   "cell_type": "code",
   "execution_count": 408,
   "id": "52773c66",
   "metadata": {},
   "outputs": [
    {
     "data": {
      "text/plain": [
       "{'LOGIN': 2, 'LOGOUT': 1}"
      ]
     },
     "execution_count": 408,
     "metadata": {},
     "output_type": "execute_result"
    }
   ],
   "source": [
    "# Sample log lines\n",
    "log_lines = [\n",
    "    \"2025-07-27T10:00:00Z user123 LOGIN\",\n",
    "    \"2025-07-27T10:05:00Z user456 LOGOUT\",\n",
    "    \"2025-07-27T10:07:00Z user123 LOGIN\"\n",
    "]\n",
    "\n",
    "def summarize_actions(log_lines: List[str]) -> Dict[str, int]:\n",
    "    action_count = {}\n",
    "    for line in log_lines:\n",
    "        parts = line.strip().split()\n",
    "        if len(parts) == 3:\n",
    "            action = parts[2]\n",
    "            action_count[action] = action_count.get(action, 0) + 1\n",
    "    return action_count\n",
    "\n",
    "summarize_actions(log_lines)\n"
   ]
  },
  {
   "cell_type": "code",
   "execution_count": 409,
   "id": "a6e02fef",
   "metadata": {},
   "outputs": [
    {
     "data": {
      "text/plain": [
       "{'sort': 'asc', 'limit': '10', 'page': '2'}"
      ]
     },
     "execution_count": 409,
     "metadata": {},
     "output_type": "execute_result"
    }
   ],
   "source": [
    "from urllib.parse import parse_qs\n",
    "\n",
    "def parse_query_string(query: str) -> Dict[str, str]:\n",
    "    parsed = parse_qs(query)\n",
    "    return {k: v[0] for k, v in parsed.items()}\n",
    "\n",
    "query_str = \"sort=asc&limit=10&page=2\"\n",
    "parse_query_string(query_str)\n"
   ]
  },
  {
   "cell_type": "code",
   "execution_count": 410,
   "id": "85b7e3ca",
   "metadata": {},
   "outputs": [
    {
     "name": "stdout",
     "output_type": "stream",
     "text": [
      "Added 1\n",
      "Added 2\n",
      "Alice\n",
      "Deleted\n",
      "Not found\n"
     ]
    }
   ],
   "source": [
    "class InMemoryUserStore:\n",
    "    def __init__(self):\n",
    "        self.users = {}\n",
    "        self.next_id = 1\n",
    "\n",
    "    def process_command(self, cmd: str) -> str:\n",
    "        tokens = cmd.strip().split()\n",
    "        if not tokens:\n",
    "            return \"Invalid command\"\n",
    "\n",
    "        op = tokens[0].upper()\n",
    "\n",
    "        if op == \"ADD\" and len(tokens) >= 2:\n",
    "            name = \" \".join(tokens[1:])\n",
    "            user_id = self.next_id\n",
    "            self.users[user_id] = name\n",
    "            self.next_id += 1\n",
    "            return f\"Added {user_id}\"\n",
    "\n",
    "        elif op == \"GET\" and len(tokens) == 2:\n",
    "            try:\n",
    "                uid = int(tokens[1])\n",
    "                return self.users.get(uid, \"Not found\")\n",
    "            except ValueError:\n",
    "                return \"Invalid user ID\"\n",
    "\n",
    "        elif op == \"DELETE\" and len(tokens) == 2:\n",
    "            try:\n",
    "                uid = int(tokens[1])\n",
    "                if uid in self.users:\n",
    "                    del self.users[uid]\n",
    "                    return \"Deleted\"\n",
    "                else:\n",
    "                    return \"Not found\"\n",
    "            except ValueError:\n",
    "                return \"Invalid user ID\"\n",
    "\n",
    "        else:\n",
    "            return \"Unknown command\"\n",
    "\n",
    "# Test run\n",
    "store = InMemoryUserStore()\n",
    "print(store.process_command(\"ADD Alice\"))\n",
    "print(store.process_command(\"ADD Bob\"))\n",
    "print(store.process_command(\"GET 1\"))\n",
    "print(store.process_command(\"DELETE 2\"))\n",
    "print(store.process_command(\"GET 2\"))\n"
   ]
  },
  {
   "cell_type": "code",
   "execution_count": 411,
   "id": "fa8b1a05",
   "metadata": {},
   "outputs": [
    {
     "name": "stdout",
     "output_type": "stream",
     "text": [
      "Sold\n",
      "3 units\n",
      "Not enough stock\n",
      "3 units\n"
     ]
    }
   ],
   "source": [
    "class InventoryManager:\n",
    "    def __init__(self):\n",
    "        self.products = {}\n",
    "        self.next_id = 1\n",
    "\n",
    "    def create_product(self, name: str, quantity: int):\n",
    "        pid = self.next_id\n",
    "        self.products[pid] = {\"name\": name, \"quantity\": quantity}\n",
    "        self.next_id += 1\n",
    "        return pid\n",
    "\n",
    "    def sell(self, pid: int, qty: int) -> str:\n",
    "        if pid not in self.products:\n",
    "            return \"Product not found\"\n",
    "        if self.products[pid][\"quantity\"] < qty:\n",
    "            return \"Not enough stock\"\n",
    "        self.products[pid][\"quantity\"] -= qty\n",
    "        return \"Sold\"\n",
    "\n",
    "    def stock(self, pid: int) -> str:\n",
    "        if pid in self.products:\n",
    "            return f'{self.products[pid][\"quantity\"]} units'\n",
    "        return \"Product not found\"\n",
    "\n",
    "# Test run\n",
    "inv = InventoryManager()\n",
    "pid = inv.create_product(\"Laptop\", 5)\n",
    "print(inv.sell(pid, 2))\n",
    "print(inv.stock(pid))\n",
    "print(inv.sell(pid, 5))  # Should fail\n",
    "print(inv.stock(pid))\n"
   ]
  },
  {
   "cell_type": "code",
   "execution_count": 412,
   "id": "43cd2dd0",
   "metadata": {},
   "outputs": [
    {
     "name": "stdout",
     "output_type": "stream",
     "text": [
      "v1 vs v2: 1.0\n",
      "v1 vs v3: 0.8017837257372731\n"
     ]
    }
   ],
   "source": [
    "def cosine_similarity(vec1: List[float], vec2: List[float]) -> float:\n",
    "    dot = sum(a*b for a, b in zip(vec1, vec2))\n",
    "    norm1 = math.sqrt(sum(a*a for a in vec1))\n",
    "    norm2 = math.sqrt(sum(b*b for b in vec2))\n",
    "    if norm1 == 0 or norm2 == 0:\n",
    "        return 0.0\n",
    "    return dot / (norm1 * norm2)\n",
    "\n",
    "v1 = [0.1, 0.2, 0.3]\n",
    "v2 = [0.1, 0.2, 0.3]\n",
    "v3 = [0.0, 0.0, 0.1]\n",
    "\n",
    "print(\"v1 vs v2:\", cosine_similarity(v1, v2))  # Should be 1.0\n",
    "print(\"v1 vs v3:\", cosine_similarity(v1, v3))  # Should be low\n"
   ]
  },
  {
   "cell_type": "code",
   "execution_count": 413,
   "id": "07053aa5",
   "metadata": {},
   "outputs": [
    {
     "name": "stdout",
     "output_type": "stream",
     "text": [
      "Hello Alice\n",
      "Malformed JSON\n"
     ]
    }
   ],
   "source": [
    "def parse_json_input(json_string: str):\n",
    "    try:\n",
    "        data = json.loads(json_string)\n",
    "        if \"name\" in data and isinstance(data[\"name\"], str):\n",
    "            return f\"Hello {data['name']}\"\n",
    "        else:\n",
    "            return \"Invalid format\"\n",
    "    except json.JSONDecodeError:\n",
    "        return \"Malformed JSON\"\n",
    "\n",
    "# Test cases\n",
    "print(parse_json_input('{\"name\": \"Alice\"}'))\n",
    "print(parse_json_input('{bad json}'))\n"
   ]
  },
  {
   "cell_type": "markdown",
   "id": "cedf7ea6",
   "metadata": {},
   "source": [
    "FastAPI Implementation Patterns: Async Endpoints, Pydantic Models & Dependency Injection"
   ]
  },
  {
   "cell_type": "code",
   "execution_count": 414,
   "id": "a3452796",
   "metadata": {},
   "outputs": [
    {
     "name": "stdout",
     "output_type": "stream",
     "text": [
      "Requirement already satisfied: fastapi in c:\\users\\iam_a\\appdata\\local\\programs\\python\\python311\\lib\\site-packages (0.115.12)\n",
      "Requirement already satisfied: uvicorn[standard] in c:\\users\\iam_a\\appdata\\local\\programs\\python\\python311\\lib\\site-packages (0.35.0)\n",
      "Requirement already satisfied: starlette<0.47.0,>=0.40.0 in c:\\users\\iam_a\\appdata\\local\\programs\\python\\python311\\lib\\site-packages (from fastapi) (0.46.2)\n",
      "Requirement already satisfied: pydantic!=1.8,!=1.8.1,!=2.0.0,!=2.0.1,!=2.1.0,<3.0.0,>=1.7.4 in c:\\users\\iam_a\\appdata\\local\\programs\\python\\python311\\lib\\site-packages (from fastapi) (2.11.6)\n",
      "Requirement already satisfied: typing-extensions>=4.8.0 in c:\\users\\iam_a\\appdata\\local\\programs\\python\\python311\\lib\\site-packages (from fastapi) (4.14.0)\n",
      "Requirement already satisfied: annotated-types>=0.6.0 in c:\\users\\iam_a\\appdata\\local\\programs\\python\\python311\\lib\\site-packages (from pydantic!=1.8,!=1.8.1,!=2.0.0,!=2.0.1,!=2.1.0,<3.0.0,>=1.7.4->fastapi) (0.7.0)\n",
      "Requirement already satisfied: pydantic-core==2.33.2 in c:\\users\\iam_a\\appdata\\local\\programs\\python\\python311\\lib\\site-packages (from pydantic!=1.8,!=1.8.1,!=2.0.0,!=2.0.1,!=2.1.0,<3.0.0,>=1.7.4->fastapi) (2.33.2)\n",
      "Requirement already satisfied: typing-inspection>=0.4.0 in c:\\users\\iam_a\\appdata\\local\\programs\\python\\python311\\lib\\site-packages (from pydantic!=1.8,!=1.8.1,!=2.0.0,!=2.0.1,!=2.1.0,<3.0.0,>=1.7.4->fastapi) (0.4.1)\n",
      "Requirement already satisfied: anyio<5,>=3.6.2 in c:\\users\\iam_a\\appdata\\local\\programs\\python\\python311\\lib\\site-packages (from starlette<0.47.0,>=0.40.0->fastapi) (4.9.0)\n",
      "Requirement already satisfied: idna>=2.8 in c:\\users\\iam_a\\appdata\\local\\programs\\python\\python311\\lib\\site-packages (from anyio<5,>=3.6.2->starlette<0.47.0,>=0.40.0->fastapi) (3.10)\n",
      "Requirement already satisfied: sniffio>=1.1 in c:\\users\\iam_a\\appdata\\local\\programs\\python\\python311\\lib\\site-packages (from anyio<5,>=3.6.2->starlette<0.47.0,>=0.40.0->fastapi) (1.3.1)\n",
      "Requirement already satisfied: click>=7.0 in c:\\users\\iam_a\\appdata\\local\\programs\\python\\python311\\lib\\site-packages (from uvicorn[standard]) (8.2.1)\n",
      "Requirement already satisfied: h11>=0.8 in c:\\users\\iam_a\\appdata\\local\\programs\\python\\python311\\lib\\site-packages (from uvicorn[standard]) (0.16.0)\n",
      "Requirement already satisfied: colorama>=0.4 in c:\\users\\iam_a\\appdata\\local\\programs\\python\\python311\\lib\\site-packages (from uvicorn[standard]) (0.4.6)\n",
      "Requirement already satisfied: httptools>=0.6.3 in c:\\users\\iam_a\\appdata\\local\\programs\\python\\python311\\lib\\site-packages (from uvicorn[standard]) (0.6.4)\n",
      "Requirement already satisfied: python-dotenv>=0.13 in c:\\users\\iam_a\\appdata\\local\\programs\\python\\python311\\lib\\site-packages (from uvicorn[standard]) (1.1.0)\n",
      "Requirement already satisfied: pyyaml>=5.1 in c:\\users\\iam_a\\appdata\\local\\programs\\python\\python311\\lib\\site-packages (from uvicorn[standard]) (6.0.2)\n",
      "Requirement already satisfied: watchfiles>=0.13 in c:\\users\\iam_a\\appdata\\local\\programs\\python\\python311\\lib\\site-packages (from uvicorn[standard]) (1.1.0)\n",
      "Requirement already satisfied: websockets>=10.4 in c:\\users\\iam_a\\appdata\\local\\programs\\python\\python311\\lib\\site-packages (from uvicorn[standard]) (15.0.1)\n",
      "Note: you may need to restart the kernel to use updated packages.\n"
     ]
    }
   ],
   "source": [
    "pip install fastapi uvicorn[standard]\n"
   ]
  },
  {
   "cell_type": "code",
   "execution_count": 415,
   "id": "b94e7982",
   "metadata": {},
   "outputs": [],
   "source": [
    "# app.py\n",
    "\n",
    "from fastapi import FastAPI\n",
    "import asyncio\n",
    "\n",
    "app = FastAPI()\n",
    "\n",
    "@app.get(\"/sync\")\n",
    "def sync_sleep():\n",
    "    import time\n",
    "    time.sleep(3)\n",
    "    return {\"status\": \"Sync response after sleep\"}\n",
    "\n",
    "@app.get(\"/async\")\n",
    "async def async_sleep():\n",
    "    await asyncio.sleep(3)\n",
    "    return {\"status\": \"Async response after sleep\"}\n"
   ]
  },
  {
   "cell_type": "code",
   "execution_count": 416,
   "id": "6de4a3c7",
   "metadata": {},
   "outputs": [],
   "source": [
    "# app.py\n",
    "\n",
    "from pydantic import BaseModel, Field\n",
    "\n",
    "class Book(BaseModel):\n",
    "    title: str = Field(..., min_length=3)\n",
    "    author: str\n",
    "    pages: int = Field(..., gt=0)\n",
    "\n",
    "@app.post(\"/books/\")\n",
    "async def create_book(book: Book):\n",
    "    return {\"message\": f\"Book '{book.title}' by {book.author} accepted.\", \"pages\": book.pages}\n"
   ]
  }
 ],
 "metadata": {
  "kernelspec": {
   "display_name": "Python 3",
   "language": "python",
   "name": "python3"
  },
  "language_info": {
   "codemirror_mode": {
    "name": "ipython",
    "version": 3
   },
   "file_extension": ".py",
   "mimetype": "text/x-python",
   "name": "python",
   "nbconvert_exporter": "python",
   "pygments_lexer": "ipython3",
   "version": "3.11.9"
  }
 },
 "nbformat": 4,
 "nbformat_minor": 5
}
