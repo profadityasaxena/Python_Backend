{
 "cells": [
  {
   "cell_type": "markdown",
   "id": "049bf504",
   "metadata": {},
   "source": [
    "**IMPORTING CHROMADB AND INITIALIZE CLIENT**"
   ]
  },
  {
   "cell_type": "code",
   "execution_count": 12,
   "id": "a954cf17",
   "metadata": {},
   "outputs": [],
   "source": [
    "# Cell 1: Import and create a new persistent Chroma client (modern version)\n",
    "import chromadb\n",
    "\n",
    "# Use persistent storage path\n",
    "chroma_client = chromadb.PersistentClient(path=\"./chroma_storage\")\n"
   ]
  },
  {
   "cell_type": "markdown",
   "id": "4665b406",
   "metadata": {},
   "source": [
    "**CREATE A COLLECTION OF FAMOUS QUOTES**"
   ]
  },
  {
   "cell_type": "code",
   "execution_count": 13,
   "id": "3a6b21b8",
   "metadata": {},
   "outputs": [],
   "source": [
    "# Cell 2: Create or get a collection for famous quotes\n",
    "collection = chroma_client.get_or_create_collection(name=\"famous_quotes\")\n"
   ]
  },
  {
   "cell_type": "markdown",
   "id": "8c98750f",
   "metadata": {},
   "source": [
    "**ADDING SAMPLE QUOTES WITH METADATA**"
   ]
  },
  {
   "cell_type": "code",
   "execution_count": 14,
   "id": "a2e27f69",
   "metadata": {},
   "outputs": [],
   "source": [
    "# Cell 3: Insert 20 famous quotes into the collection\n",
    "collection.add(\n",
    "    documents=[\n",
    "        \"Be the change that you wish to see in the world.\",\n",
    "        \"In the middle of difficulty lies opportunity.\",\n",
    "        \"The only thing we have to fear is fear itself.\",\n",
    "        \"That's one small step for man, one giant leap for mankind.\",\n",
    "        \"I think, therefore I am.\",\n",
    "        \"To be or not to be, that is the question.\",\n",
    "        \"Float like a butterfly, sting like a bee.\",\n",
    "        \"Imagination is more important than knowledge.\",\n",
    "        \"The greatest glory in living lies not in never falling, but in rising every time we fall.\",\n",
    "        \"Success is not final, failure is not fatal: It is the courage to continue that counts.\",\n",
    "        \"You must be the change you wish to see in the world.\",\n",
    "        \"Life is what happens when you're busy making other plans.\",\n",
    "        \"Happiness is not something ready made. It comes from your own actions.\",\n",
    "        \"If you judge people, you have no time to love them.\",\n",
    "        \"It always seems impossible until it's done.\",\n",
    "        \"I have a dream.\",\n",
    "        \"Do not go where the path may lead, go instead where there is no path and leave a trail.\",\n",
    "        \"That which does not kill us makes us stronger.\",\n",
    "        \"I came, I saw, I conquered.\",\n",
    "        \"The only true wisdom is in knowing you know nothing.\"\n",
    "    ],\n",
    "    ids=[\n",
    "        \"gandhi_1\", \"einstein_1\", \"roosevelt_1\", \"armstrong_1\", \"descartes_1\",\n",
    "        \"shakespeare_1\", \"ali_1\", \"einstein_2\", \"mandela_1\", \"churchill_1\",\n",
    "        \"gandhi_2\", \"lennon_1\", \"dalai_1\", \"mother_teresa_1\", \"mandela_2\",\n",
    "        \"mlk_1\", \"emerson_1\", \"nietzsche_1\", \"caesar_1\", \"socrates_1\"\n",
    "    ],\n",
    "    metadatas=[\n",
    "        {\"author\": \"Mahatma Gandhi\"},\n",
    "        {\"author\": \"Albert Einstein\"},\n",
    "        {\"author\": \"Franklin D. Roosevelt\"},\n",
    "        {\"author\": \"Neil Armstrong\"},\n",
    "        {\"author\": \"René Descartes\"},\n",
    "        {\"author\": \"William Shakespeare\"},\n",
    "        {\"author\": \"Muhammad Ali\"},\n",
    "        {\"author\": \"Albert Einstein\"},\n",
    "        {\"author\": \"Nelson Mandela\"},\n",
    "        {\"author\": \"Winston Churchill\"},\n",
    "        {\"author\": \"Mahatma Gandhi\"},\n",
    "        {\"author\": \"John Lennon\"},\n",
    "        {\"author\": \"Dalai Lama\"},\n",
    "        {\"author\": \"Mother Teresa\"},\n",
    "        {\"author\": \"Nelson Mandela\"},\n",
    "        {\"author\": \"Martin Luther King Jr.\"},\n",
    "        {\"author\": \"Ralph Waldo Emerson\"},\n",
    "        {\"author\": \"Friedrich Nietzsche\"},\n",
    "        {\"author\": \"Julius Caesar\"},\n",
    "        {\"author\": \"Socrates\"}\n",
    "    ]\n",
    ")\n"
   ]
  },
  {
   "cell_type": "markdown",
   "id": "34982d3e",
   "metadata": {},
   "source": [
    "**RUNNING A SEMANTIC SEARCH**"
   ]
  },
  {
   "cell_type": "code",
   "execution_count": 15,
   "id": "87b4fff7",
   "metadata": {},
   "outputs": [
    {
     "name": "stdout",
     "output_type": "stream",
     "text": [
      "{'data': None,\n",
      " 'distances': [[1.166870355606079, 1.2101314067840576]],\n",
      " 'documents': [['The greatest glory in living lies not in never falling, but '\n",
      "                'in rising every time we fall.',\n",
      "                'In the middle of difficulty lies opportunity.']],\n",
      " 'embeddings': None,\n",
      " 'ids': [['mandela_1', 'einstein_1']],\n",
      " 'included': ['metadatas', 'documents', 'distances'],\n",
      " 'metadatas': [[{'author': 'Nelson Mandela'}, {'author': 'Albert Einstein'}]],\n",
      " 'uris': None}\n"
     ]
    }
   ],
   "source": [
    "# Cell 4: Query for a quote about courage or opportunity\n",
    "results = collection.query(\n",
    "    query_texts=[\"quotes about opportunity and bravery\"],\n",
    "    n_results=2\n",
    ")\n",
    "\n",
    "# Display results\n",
    "from pprint import pprint\n",
    "pprint(results)\n"
   ]
  },
  {
   "cell_type": "markdown",
   "id": "dea33fcc",
   "metadata": {},
   "source": [
    "**VIEW ALL COLLECTIONS**"
   ]
  },
  {
   "cell_type": "code",
   "execution_count": 16,
   "id": "b22744c2",
   "metadata": {},
   "outputs": [
    {
     "data": {
      "text/plain": [
       "[Collection(name=famous_quotes), Collection(name=documents)]"
      ]
     },
     "execution_count": 16,
     "metadata": {},
     "output_type": "execute_result"
    }
   ],
   "source": [
    "# Optional Cell: View existing collections\n",
    "chroma_client.list_collections()\n"
   ]
  }
 ],
 "metadata": {
  "kernelspec": {
   "display_name": "Python 3",
   "language": "python",
   "name": "python3"
  },
  "language_info": {
   "codemirror_mode": {
    "name": "ipython",
    "version": 3
   },
   "file_extension": ".py",
   "mimetype": "text/x-python",
   "name": "python",
   "nbconvert_exporter": "python",
   "pygments_lexer": "ipython3",
   "version": "3.11.9"
  }
 },
 "nbformat": 4,
 "nbformat_minor": 5
}
